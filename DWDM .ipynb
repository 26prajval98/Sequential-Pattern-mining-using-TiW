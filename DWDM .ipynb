{
 "cells": [
  {
   "cell_type": "code",
   "execution_count": 62,
   "metadata": {},
   "outputs": [],
   "source": [
    "# create database in the paper\n",
    "\n",
    "database=dict()\n",
    "# database['sid']=[10,20,30,40]\n",
    "# database['sequence']=[['a','abc','ac','d'],['ad','c','bc','ae'],['ad','bc','df'],['a','abc','d']]\n",
    "# database['timestamp']=[[0,1,2,3],[1,2,3,4],[1,3,5],[2,3,4]]\n",
    "\n",
    "database['10']=[['a',0],['abc',1],['ac',2],['d',3]]\n",
    "database['20']=[['ad',1],['c',2],['bc',3],['ae',4]]\n",
    "database['30']=[['ad',1],['bc',3],['df',5]]\n",
    "database['40']=[['a',2],['abc',3],['d',4]]"
   ]
  },
  {
   "cell_type": "code",
   "execution_count": 1,
   "metadata": {
    "scrolled": false
   },
   "outputs": [
    {
     "name": "stdout",
     "output_type": "stream",
     "text": [
      "\n",
      "Input :\n",
      "\n",
      "1 2 269 4701 \n",
      "\n",
      "\n",
      "\n",
      "Time stamp\n",
      "\n",
      "[59.71594491384269, 620.9418924377105, 632.5470757282807, 766.0051342063122, 806.0901917840641, 962.0169388900936]\n",
      "\n",
      "\n",
      "Sequence\n",
      "\n",
      "['9033', '184577138778', '128517057890', '404969087443', '07651739', '36279693']\n",
      "dict_keys(['0', '1', '2', '4', '5', '6', '7', '8', '9'])\n"
     ]
    }
   ],
   "source": [
    "# snippet to generate the dataset and pre process it \n",
    "\n",
    "\n",
    "# create database\n",
    "\n",
    "# database = dict()\n",
    "# database['sid']=[10,20,30,40]\n",
    "# database['sequence']=[['a','abc','ac','d'],['ad','c','bc','ae'],['ad','bc','df'],['a','abc','d']]\n",
    "# database['timestamp']=[[0,1,2,3],[1,2,3,4],[1,3,5],[2,3,4]]\n",
    "#\n",
    "# database['10'] = [['a', 0], ['abc', 1], ['ac', 2], ['d', 3]]\n",
    "# database['20'] = [['ad', 1], ['c', 2], ['bc', 3], ['ae', 4]]\n",
    "# database['30'] = [['ad', 1], ['bc', 3], ['df', 5]]\n",
    "# database['cd40'] = [['a', 2], ['abc', 3], ['d', 4]]\n",
    "#\n",
    "# # print database\n",
    "#\n",
    "# for i in database.keys():\n",
    "# \tprint(i, end=' ')\n",
    "# \tfor j in database[i]:\n",
    "# \t\tprint(j[0], end=' ')\n",
    "# \tfor j in database[i]:\n",
    "# \t\tprint(j[1], end=' ')\n",
    "# \tprint()\n",
    "\n",
    "import random\n",
    "\n",
    "# lower = 111; upper = 999\n",
    "# random_float = random.uniform(lower, upper)\n",
    "# print(random_float)\n",
    "def Randlist(start, end, num):\n",
    "\tres = []\n",
    "\n",
    "\tfor j in range(num):\n",
    "\t\tval=(random.uniform(start, end))\n",
    "\t#\tval=int(val)\n",
    "\t\tres.append(val)\n",
    "\n",
    "\tres.sort()\n",
    "\treturn res\n",
    "\n",
    "\n",
    "text_file= open(\"sample.data\",\"r\")\n",
    "lines= text_file.readlines()\n",
    "# line1= lines[0]\n",
    "undelted_lines= lines\n",
    "print(\"\\nInput :\\n\")\n",
    "print(lines[3])\n",
    "x = dict()\n",
    "for i in range(len(lines)):\n",
    "\tline1 = list(lines[i].split(\" \"))\n",
    "\t# print(line1)\n",
    "\tline1.pop()\n",
    "\tlength = int(line1[0])\n",
    "\t# print(length)\n",
    "\tline1.pop(0)\n",
    "\t# x= dict()\n",
    "\t# print(line1)\n",
    "\tlst = []\n",
    "\n",
    "\tfor j in range(length):\n",
    "\t\tsizeoflistoftime= int(line1[0])\n",
    "\t\t# print(sizeoflistoftime)\n",
    "\t\tline1.pop(0)\n",
    "\t\t# print(line1)\n",
    "\n",
    "#         listoftime=Randlist(0,1000,sizeoflistoftime)\n",
    "\t\tlistoftime=Randlist(0,1000,1)\n",
    "\t\tfor k in range(sizeoflistoftime):\n",
    "\t\t\tline1.pop(0)\n",
    "\t\t# print(listoftime)\n",
    "\n",
    "\t\tlst.append(listoftime[0])\n",
    "\t# print(\"The list is :\")\n",
    "\t# print(lst)\n",
    "\tlst.sort()\n",
    "\tx[i]=lst[:]\n",
    "\n",
    "\n",
    "# print(x)\n",
    "\n",
    "# print(undelted_lines)\n",
    "x2= dict()\n",
    "\n",
    "# item_alpha=dict()\n",
    "# alphabet='a'\n",
    "\n",
    "for i in range(len(undelted_lines)):\n",
    "\tline1 = list(undelted_lines[i].split(\" \"))\n",
    "\t# print(line1)\n",
    "\tline1.pop()\n",
    "\tlength = int(line1[0])\n",
    "\t# print(length)\n",
    "\tline1.pop(0)\n",
    "\t# print(line1)\n",
    "\tlistoftime=[]\n",
    "\tfor j in range(length):\n",
    "\t\tsizeoflistoftime= int(line1[0])\n",
    "\t\t# print(sizeoflistoftime)\n",
    "\t\tline1.pop(0)\n",
    "\t\t# print(line1)\n",
    "\t\ttemp=\"\"\n",
    "\t\t# listoftime=Randlist(0,1000,sizeoflistoftime)\n",
    "\t\tfor k in range(sizeoflistoftime):\n",
    "            \n",
    "# \t\t\tif line1[0] in item_alpha.keys():\n",
    "# \t\t\t\tpass\n",
    "# \t\t\telse :\n",
    "# \t\t\t\titem_alpha[line1[0]]=alphabet\n",
    "# \t\t\t\talphabet=chr(ord(alphabet)+1)\n",
    "\t\t\ttemp=temp+line1[0].zfill(4)\n",
    "\t\t\tline1.pop(0)\n",
    "\n",
    "\n",
    "\t\tlistoftime.append(temp)\n",
    "\t# print(listoftime)\n",
    "\tx2[i]=listoftime\n",
    "\n",
    "print(\"\\n\\nTime stamp\\n\")\n",
    "print(x[2])\n",
    "print(\"\\n\\nSequence\\n\")\n",
    "print(x2[2])\n",
    "\n",
    "database=dict()\n",
    "for i in x.keys():\n",
    "    if len(x[i])>1:\n",
    "        database[str(i)]=[]\n",
    "        for j in range(len(x[i])):\n",
    "            database[str(i)].append([x2[i][j],x[i][j]])\n",
    "        \n",
    "print(database.keys())"
   ]
  },
  {
   "cell_type": "code",
   "execution_count": 2,
   "metadata": {},
   "outputs": [
    {
     "name": "stdout",
     "output_type": "stream",
     "text": [
      "0 2479 21545477 0440227660369838 6639792690549748 1247 1992 2535 509577449337 234347377188851892419486 15.469584262986613 75.6177321104664 155.78500287678798 173.64829834524076 455.4399385621556 500.484809781422 523.9953960957207 570.1059519605159 861.7382510468273 \n",
      "1 076515427203 585473098827 5993 0991495663767993 060617988964 060610912787 40235242 245163928259 07033355589271699239 118.51177604665509 182.28992773802665 367.3632842084625 376.08000570181997 395.58320704113424 886.6666090937258 938.9197731893184 959.6817148375404 990.8099147450886 \n",
      "2 9033 184577138778 128517057890 404969087443 07651739 36279693 59.71594491384269 620.9418924377105 632.5470757282807 766.0051342063122 806.0901917840641 962.0169388900936 \n",
      "4 62737655 2654 478.2847102154313 911.4960984422834 \n",
      "5 0149 35339471 5758 1491 5024 3812 155.00180545961194 163.6677920404198 617.7771644906031 633.6137864801188 676.8115396080481 942.4122063655578 \n",
      "6 340447646487 521076377771 140555019708 357238757705 270941675713 0886287069187963857191259795 07236970 06255975 12.886202605772446 50.0837043321627 166.00945124360146 189.51248295548862 439.7787871131751 883.2450985837778 903.5302630767404 981.1772022893753 \n",
      "7 7851 2053 58268595 1734 46.275544054731995 62.43536446145293 118.93634783391649 946.6968439733122 \n",
      "8 72137771 5510 46529373 9928 67717774 31138769 45.93273726408731 95.04437502921293 161.27419795678634 365.551422010759 526.229583208764 854.5005573980293 \n",
      "9 07656075 5735 3541 2715 2104 74.89404059066985 201.93216407003922 299.8990747881353 678.3754420434778 933.8630489489843 \n",
      "[['2479', 15.469584262986613], ['21545477', 75.6177321104664], ['0440227660369838', 155.78500287678798], ['6639792690549748', 173.64829834524076], ['1247', 455.4399385621556], ['1992', 500.484809781422], ['2535', 523.9953960957207], ['509577449337', 570.1059519605159], ['234347377188851892419486', 861.7382510468273]]\n"
     ]
    }
   ],
   "source": [
    "# print database\n",
    "\n",
    "for i in database.keys():\n",
    "    print(i,end=' ')\n",
    "    for j in database[i]:\n",
    "        print(j[0],end=' ')\n",
    "    for j in database[i]:\n",
    "        print(j[1],end=' ')\n",
    "    print()\n",
    "print(database['0'])"
   ]
  },
  {
   "cell_type": "code",
   "execution_count": 3,
   "metadata": {},
   "outputs": [],
   "source": [
    "# function to return time-intervals\n",
    "def time_interval_itemsets(i,j):\n",
    "    \n",
    "    time_i=i[1]\n",
    "    time_j=j[1]\n",
    "    \n",
    "    return(abs(time_i-time_j))\n",
    "    "
   ]
  },
  {
   "cell_type": "code",
   "execution_count": 4,
   "metadata": {},
   "outputs": [],
   "source": [
    "# itemset pair generation\n",
    "def itemset_pair_generator(seq):\n",
    "    \n",
    "    itemset_pairs=[]\n",
    "    n=len(seq)\n",
    "    for i in range(n):\n",
    "        for j in range(i+1,n):\n",
    "            itemset_pairs.append([seq[i],seq[j]])\n",
    "    \n",
    "    return(itemset_pairs)"
   ]
  },
  {
   "cell_type": "code",
   "execution_count": 5,
   "metadata": {},
   "outputs": [],
   "source": [
    "# function to generate the time intervals for a sequence\n",
    "def time_interval_sequence(itemset_pairs):\n",
    "    \n",
    "    itemset_pairs_time=[]\n",
    "    for i in itemset_pairs:\n",
    "        time_interval=time_interval_itemsets(i[0],i[1])\n",
    "        itemset_pairs_time.append(i+[time_interval])\n",
    "        \n",
    "    return(itemset_pairs_time)\n",
    "        \n",
    "    "
   ]
  },
  {
   "cell_type": "code",
   "execution_count": 6,
   "metadata": {},
   "outputs": [],
   "source": [
    "# function to obtain the strength of a pair of itemsets\n",
    "def strength_pair(itemset_pairs_time):\n",
    "    \n",
    "    itemset_pairs_time_strength=[]\n",
    "    for i in itemset_pairs_time:\n",
    "        \n",
    "        itemset1=i[0][0]\n",
    "        itemset2=i[1][0]\n",
    "#         strength= len(itemset1)*len(itemset2)\n",
    "        strength= len(itemset1)*len(itemset2)/16    # because each item has 4 characters\n",
    "        itemset_pairs_time_strength.append(i+[strength])\n",
    "    \n",
    "    return itemset_pairs_time_strength\n",
    "        \n",
    "    "
   ]
  },
  {
   "cell_type": "code",
   "execution_count": 12,
   "metadata": {
    "scrolled": true
   },
   "outputs": [
    {
     "name": "stdout",
     "output_type": "stream",
     "text": [
      "\n"
     ]
    }
   ],
   "source": [
    "# def main(): main function\n",
    "    \n",
    "for i in database.keys():\n",
    "    itemset_pairs=itemset_pair_generator(database[i])\n",
    "    itemset_pairs_time=time_interval_sequence(itemset_pairs)\n",
    "    itemset_pairs_time_strength=strength_pair(itemset_pairs_time)\n",
    "    TiW=TiW_sequence(itemset_pairs_time_strength)\n",
    "    database[i].append(TiW)\n",
    "\n",
    "print()"
   ]
  },
  {
   "cell_type": "code",
   "execution_count": 133,
   "metadata": {},
   "outputs": [
    {
     "ename": "TypeError",
     "evalue": "'float' object is not subscriptable",
     "output_type": "error",
     "traceback": [
      "\u001b[1;31m---------------------------------------------------------------------------\u001b[0m",
      "\u001b[1;31mTypeError\u001b[0m                                 Traceback (most recent call last)",
      "\u001b[1;32m<ipython-input-133-497f86f28a8a>\u001b[0m in \u001b[0;36m<module>\u001b[1;34m()\u001b[0m\n\u001b[0;32m      1\u001b[0m \u001b[0mitemset_pairs\u001b[0m\u001b[1;33m=\u001b[0m\u001b[0mitemset_pair_generator\u001b[0m\u001b[1;33m(\u001b[0m\u001b[0mdatabase\u001b[0m\u001b[1;33m[\u001b[0m\u001b[1;34m'2'\u001b[0m\u001b[1;33m]\u001b[0m\u001b[1;33m)\u001b[0m\u001b[1;33m\u001b[0m\u001b[0m\n\u001b[1;32m----> 2\u001b[1;33m \u001b[0mitemset_pairs_time\u001b[0m\u001b[1;33m=\u001b[0m\u001b[0mtime_interval_sequence\u001b[0m\u001b[1;33m(\u001b[0m\u001b[0mitemset_pairs\u001b[0m\u001b[1;33m)\u001b[0m\u001b[1;33m\u001b[0m\u001b[0m\n\u001b[0m\u001b[0;32m      3\u001b[0m \u001b[0mitemset_pairs_time_strength\u001b[0m\u001b[1;33m=\u001b[0m\u001b[0mstrength_pair\u001b[0m\u001b[1;33m(\u001b[0m\u001b[0mitemset_pairs_time\u001b[0m\u001b[1;33m)\u001b[0m\u001b[1;33m\u001b[0m\u001b[0m\n\u001b[0;32m      4\u001b[0m \u001b[0mTiW\u001b[0m\u001b[1;33m=\u001b[0m\u001b[0mTiW_sequence\u001b[0m\u001b[1;33m(\u001b[0m\u001b[0mitemset_pairs_time_strength\u001b[0m\u001b[1;33m)\u001b[0m\u001b[1;33m\u001b[0m\u001b[0m\n\u001b[0;32m      5\u001b[0m \u001b[1;31m# print(itemset_pairs)\u001b[0m\u001b[1;33m\u001b[0m\u001b[1;33m\u001b[0m\u001b[0m\n",
      "\u001b[1;32m<ipython-input-67-18415b8a5708>\u001b[0m in \u001b[0;36mtime_interval_sequence\u001b[1;34m(itemset_pairs)\u001b[0m\n\u001b[0;32m      4\u001b[0m     \u001b[0mitemset_pairs_time\u001b[0m\u001b[1;33m=\u001b[0m\u001b[1;33m[\u001b[0m\u001b[1;33m]\u001b[0m\u001b[1;33m\u001b[0m\u001b[0m\n\u001b[0;32m      5\u001b[0m     \u001b[1;32mfor\u001b[0m \u001b[0mi\u001b[0m \u001b[1;32min\u001b[0m \u001b[0mitemset_pairs\u001b[0m\u001b[1;33m:\u001b[0m\u001b[1;33m\u001b[0m\u001b[0m\n\u001b[1;32m----> 6\u001b[1;33m         \u001b[0mtime_interval\u001b[0m\u001b[1;33m=\u001b[0m\u001b[0mtime_interval_itemsets\u001b[0m\u001b[1;33m(\u001b[0m\u001b[0mi\u001b[0m\u001b[1;33m[\u001b[0m\u001b[1;36m0\u001b[0m\u001b[1;33m]\u001b[0m\u001b[1;33m,\u001b[0m\u001b[0mi\u001b[0m\u001b[1;33m[\u001b[0m\u001b[1;36m1\u001b[0m\u001b[1;33m]\u001b[0m\u001b[1;33m)\u001b[0m\u001b[1;33m\u001b[0m\u001b[0m\n\u001b[0m\u001b[0;32m      7\u001b[0m         \u001b[0mitemset_pairs_time\u001b[0m\u001b[1;33m.\u001b[0m\u001b[0mappend\u001b[0m\u001b[1;33m(\u001b[0m\u001b[0mi\u001b[0m\u001b[1;33m+\u001b[0m\u001b[1;33m[\u001b[0m\u001b[0mtime_interval\u001b[0m\u001b[1;33m]\u001b[0m\u001b[1;33m)\u001b[0m\u001b[1;33m\u001b[0m\u001b[0m\n\u001b[0;32m      8\u001b[0m \u001b[1;33m\u001b[0m\u001b[0m\n",
      "\u001b[1;32m<ipython-input-65-7d2c21c5a21f>\u001b[0m in \u001b[0;36mtime_interval_itemsets\u001b[1;34m(i, j)\u001b[0m\n\u001b[0;32m      3\u001b[0m \u001b[1;33m\u001b[0m\u001b[0m\n\u001b[0;32m      4\u001b[0m     \u001b[0mtime_i\u001b[0m\u001b[1;33m=\u001b[0m\u001b[0mi\u001b[0m\u001b[1;33m[\u001b[0m\u001b[1;36m1\u001b[0m\u001b[1;33m]\u001b[0m\u001b[1;33m\u001b[0m\u001b[0m\n\u001b[1;32m----> 5\u001b[1;33m     \u001b[0mtime_j\u001b[0m\u001b[1;33m=\u001b[0m\u001b[0mj\u001b[0m\u001b[1;33m[\u001b[0m\u001b[1;36m1\u001b[0m\u001b[1;33m]\u001b[0m\u001b[1;33m\u001b[0m\u001b[0m\n\u001b[0m\u001b[0;32m      6\u001b[0m \u001b[1;33m\u001b[0m\u001b[0m\n\u001b[0;32m      7\u001b[0m     \u001b[1;32mreturn\u001b[0m\u001b[1;33m(\u001b[0m\u001b[0mabs\u001b[0m\u001b[1;33m(\u001b[0m\u001b[0mtime_i\u001b[0m\u001b[1;33m-\u001b[0m\u001b[0mtime_j\u001b[0m\u001b[1;33m)\u001b[0m\u001b[1;33m)\u001b[0m\u001b[1;33m\u001b[0m\u001b[0m\n",
      "\u001b[1;31mTypeError\u001b[0m: 'float' object is not subscriptable"
     ]
    }
   ],
   "source": [
    "# testing functions\n",
    "\n",
    "itemset_pairs=itemset_pair_generator(database['2'])\n",
    "itemset_pairs_time=time_interval_sequence(itemset_pairs)\n",
    "itemset_pairs_time_strength=strength_pair(itemset_pairs_time)\n",
    "TiW=TiW_sequence(itemset_pairs_time_strength)\n",
    "# print(itemset_pairs)\n",
    "print(TiW)"
   ]
  },
  {
   "cell_type": "code",
   "execution_count": 8,
   "metadata": {},
   "outputs": [],
   "source": [
    "# function to calculate the weighting function of the time interval\n",
    "def weighting_function(time_interval):\n",
    "    \n",
    "    delta=0.9\n",
    "    u=1\n",
    "    w_TI=delta**(time_interval/u)\n",
    "    \n",
    "    return(w_TI)"
   ]
  },
  {
   "cell_type": "code",
   "execution_count": 9,
   "metadata": {},
   "outputs": [],
   "source": [
    "# function to calculate the time interval weight of the sequence\n",
    "def TiW_sequence(itemset_pairs_time_strength):\n",
    "    \n",
    "    total_strength=0\n",
    "    weighted_strength=0\n",
    "    for i in itemset_pairs_time_strength:\n",
    "        \n",
    "        w_TI=weighting_function(i[2])\n",
    "        weighted_strength+=w_TI*i[3]\n",
    "        total_strength+=i[3]\n",
    "        \n",
    "    TiW=weighted_strength/total_strength\n",
    "    \n",
    "    return(TiW)\n",
    "    \n",
    "    \n",
    "        "
   ]
  },
  {
   "cell_type": "code",
   "execution_count": 10,
   "metadata": {},
   "outputs": [],
   "source": [
    "# function to check if a given sequence is a super sequence of the other \n",
    "# checks if seq1 is a super sequence of seq2\n",
    "def is_super_seq(seq1,seq2):\n",
    "    i= 0\n",
    "    j= 0\n",
    "    \n",
    "    while i<len(seq1) and j<len(seq2):\n",
    "        \n",
    "        if seq2[j][0] in seq1[i][0]:\n",
    "            i+=1\n",
    "            j+=1\n",
    "        else:\n",
    "            i+=1\n",
    "    if j==len(seq2):\n",
    "        return 1\n",
    "    \n",
    "    else:\n",
    "        return 0\n",
    "    "
   ]
  },
  {
   "cell_type": "code",
   "execution_count": 11,
   "metadata": {},
   "outputs": [
    {
     "ename": "SyntaxError",
     "evalue": "invalid syntax (<ipython-input-11-7b9adc04a8d9>, line 2)",
     "output_type": "error",
     "traceback": [
      "\u001b[1;36m  File \u001b[1;32m\"<ipython-input-11-7b9adc04a8d9>\"\u001b[1;36m, line \u001b[1;32m2\u001b[0m\n\u001b[1;33m    def TiW_support()\u001b[0m\n\u001b[1;37m                     ^\u001b[0m\n\u001b[1;31mSyntaxError\u001b[0m\u001b[1;31m:\u001b[0m invalid syntax\n"
     ]
    }
   ],
   "source": [
    "# testing function\n",
    "# def TiW_support()\n",
    "\n",
    "count=0\n",
    "for i in database.keys():\n",
    "    seq1=database[i]\n",
    "    seq2=[['ad'],['bc'],[]]\n",
    "    count+=is_super_seq(seq1,seq2)\n",
    "    \n",
    "print(count/len(database.keys()))"
   ]
  }
 ],
 "metadata": {
  "kernelspec": {
   "display_name": "Python 3",
   "language": "python",
   "name": "python3"
  },
  "language_info": {
   "codemirror_mode": {
    "name": "ipython",
    "version": 3
   },
   "file_extension": ".py",
   "mimetype": "text/x-python",
   "name": "python",
   "nbconvert_exporter": "python",
   "pygments_lexer": "ipython3",
   "version": "3.7.0"
  }
 },
 "nbformat": 4,
 "nbformat_minor": 2
}

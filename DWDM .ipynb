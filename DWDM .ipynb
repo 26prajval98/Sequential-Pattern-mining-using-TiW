{
 "cells": [
  {
   "cell_type": "code",
   "execution_count": 2,
   "metadata": {
    "pycharm": {
     "is_executing": false
    }
   },
   "outputs": [],
   "source": [
    "# create database in the paper\n",
    "\n",
    "database=dict()\n",
    "# database['sid']=[10,20,30,40]\n",
    "# database['sequence']=[['a','abc','ac','d'],['ad','c','bc','ae'],['ad','bc','df'],['a','abc','d']]\n",
    "# database['timestamp']=[[0,1,2,3],[1,2,3,4],[1,3,5],[2,3,4]]\n",
    "\n",
    "database['10']=[['a',0],['abc',1],['ac',2],['d',3]]\n",
    "database['20']=[['ad',1],['c',2],['bc',3],['ae',4]]\n",
    "database['30']=[['ad',1],['bc',3],['df',5]]\n",
    "database['40']=[['a',2],['abc',3],['d',4]]"
   ]
  },
  {
   "cell_type": "code",
   "execution_count": 3,
   "metadata": {
    "scrolled": false,
    "pycharm": {
     "is_executing": false
    }
   },
   "outputs": [
    {
     "name": "stdout",
     "text": [
      "\nInput :\n\n1 2 269 4701 \n\n\n\nTime stamp\n\n[127.99943115266844, 178.30045841307884, 602.9104236920415, 616.5856578475126, 654.6502973608117, 747.1828177459225]\n\n\nSequence\n\n['9033', '184577138778', '128517057890', '404969087443', '07651739', '36279693']\ndict_keys(['0', '1', '2', '4', '5', '6', '7', '8', '9'])\n"
     ],
     "output_type": "stream"
    }
   ],
   "source": [
    "# snippet to generate the dataset and pre process it \n",
    "\n",
    "\n",
    "# create database\n",
    "\n",
    "# database = dict()\n",
    "# database['sid']=[10,20,30,40]\n",
    "# database['sequence']=[['a','abc','ac','d'],['ad','c','bc','ae'],['ad','bc','df'],['a','abc','d']]\n",
    "# database['timestamp']=[[0,1,2,3],[1,2,3,4],[1,3,5],[2,3,4]]\n",
    "#\n",
    "# database['10'] = [['a', 0], ['abc', 1], ['ac', 2], ['d', 3]]\n",
    "# database['20'] = [['ad', 1], ['c', 2], ['bc', 3], ['ae', 4]]\n",
    "# database['30'] = [['ad', 1], ['bc', 3], ['df', 5]]\n",
    "# database['cd40'] = [['a', 2], ['abc', 3], ['d', 4]]\n",
    "#\n",
    "# # print database\n",
    "#\n",
    "# for i in database.keys():\n",
    "# \tprint(i, end=' ')\n",
    "# \tfor j in database[i]:\n",
    "# \t\tprint(j[0], end=' ')\n",
    "# \tfor j in database[i]:\n",
    "# \t\tprint(j[1], end=' ')\n",
    "# \tprint()\n",
    "\n",
    "import random\n",
    "\n",
    "# lower = 111; upper = 999\n",
    "# random_float = random.uniform(lower, upper)\n",
    "# print(random_float)\n",
    "def Randlist(start, end, num):\n",
    "\tres = []\n",
    "\n",
    "\tfor j in range(num):\n",
    "\t\tval=(random.uniform(start, end))\n",
    "\t\tres.append(val)\n",
    "\n",
    "\tres.sort()\n",
    "\treturn res\n",
    "\n",
    "text_file= open(\"sample.data\",\"r\")\n",
    "lines= text_file.readlines()\n",
    "# line1= lines[0]\n",
    "undelted_lines= lines\n",
    "print(\"\\nInput :\\n\")\n",
    "print(lines[3])\n",
    "x = dict()\n",
    "for i in range(len(lines)):\n",
    "\tline1 = list(lines[i].split(\" \"))\n",
    "\tline1.pop()\n",
    "\tlength = int(line1[0])\n",
    "\tline1.pop(0)\n",
    "\tlst = []\n",
    "\n",
    "\tfor j in range(length):\n",
    "\t\tsizeoflistoftime= int(line1[0])\n",
    "\t\tline1.pop(0)\n",
    "\t\t\n",
    "\t\tlistoftime=Randlist(0,1000,1)\n",
    "\t\tfor k in range(sizeoflistoftime):\n",
    "\t\t\tline1.pop(0)\n",
    "\n",
    "\t\tlst.append(listoftime[0])\n",
    "\n",
    "\tlst.sort()\n",
    "\tx[i]=lst[:]\n",
    "\n",
    "x2= dict()\n",
    "\n",
    "for i in range(len(undelted_lines)):\n",
    "\tline1 = list(undelted_lines[i].split(\" \"))\n",
    "\tline1.pop()\n",
    "\tlength = int(line1[0])\n",
    "\tline1.pop(0)\n",
    "\tlistoftime=[]\n",
    "\tfor j in range(length):\n",
    "\t\tsizeoflistoftime= int(line1[0])\n",
    "\t\tline1.pop(0)\n",
    "\t\ttemp=\"\"\n",
    "\t\tfor k in range(sizeoflistoftime):            \n",
    "# \t\t\tif line1[0] in item_alpha.keys():\n",
    "# \t\t\t\tpass\n",
    "# \t\t\telse :\n",
    "# \t\t\t\titem_alpha[line1[0]]=alphabet\n",
    "# \t\t\t\talphabet=chr(ord(alphabet)+1)\n",
    "\t\t\ttemp=temp+line1[0].zfill(4)\n",
    "\t\t\tline1.pop(0)\n",
    "\n",
    "\n",
    "\t\tlistoftime.append(temp)\n",
    "\t# print(listoftime)\n",
    "\tx2[i]=listoftime\n",
    "\n",
    "print(\"\\n\\nTime stamp\\n\")\n",
    "print(x[2])\n",
    "print(\"\\n\\nSequence\\n\")\n",
    "print(x2[2])\n",
    "\n",
    "database=dict()\n",
    "for i in x.keys():\n",
    "    if len(x[i])>1:\n",
    "        database[str(i)]=[]\n",
    "        for j in range(len(x[i])):\n",
    "            database[str(i)].append([x2[i][j],x[i][j]])\n",
    "        \n",
    "print(database.keys())"
   ]
  },
  {
   "cell_type": "code",
   "execution_count": 4,
   "metadata": {
    "pycharm": {
     "is_executing": false
    }
   },
   "outputs": [
    {
     "name": "stdout",
     "text": [
      "0 2479 21545477 0440227660369838 6639792690549748 1247 1992 2535 509577449337 234347377188851892419486 11.162250234170944 109.3573196309987 135.66772335772092 539.7583669480725 590.3977680105511 645.4766838205031 678.3835755984883 784.4179388385186 980.5171502576593 1 076515427203 585473098827 5993 0991495663767993 060617988964 060610912787 40235242 245163928259 07033355589271699239 75.42688989169666 79.37004235321598 91.71694426042399 189.07080580907353 248.30120548344314 395.4730123963461 678.2124872805053 858.0763930147548 987.2802850654488 2 9033 184577138778 128517057890 404969087443 07651739 36279693 127.99943115266844 178.30045841307884 602.9104236920415 616.5856578475126 654.6502973608117 747.1828177459225 4 62737655 2654 664.4914709597618 733.3543480158265 5 0149 35339471 5758 1491 5024 3812 178.81860127671712 198.0875206423155 506.8925163933543 515.5547444518129 542.284690285611 736.5890112718595 6 340447646487 521076377771 140555019708 357238757705 270941675713 0886287069187963857191259795 07236970 06255975 139.92629184031446 212.14962131245207 284.66438531943015 305.33074032015963 461.49881465989364 753.5015311247081 842.7005046662232 936.0937361203426 7 7851 2053 58268595 1734 124.08185672260474 351.06636277749635 358.44237737427966 586.5930488715281 8 72137771 5510 46529373 9928 67717774 31138769 150.91336775480124 161.89529105523494 546.4272948565249 597.647472489338 737.5166726800785 867.3597306600046 9 07656075 5735 3541 2715 2104 324.55516796052365 444.02438245475093 462.39175073968863 526.9502050016796 598.2123265695432 [['2479', 11.162250234170944], ['21545477', 109.3573196309987], ['0440227660369838', 135.66772335772092], ['6639792690549748', 539.7583669480725], ['1247', 590.3977680105511], ['1992', 645.4766838205031], ['2535', 678.3835755984883], ['509577449337', 784.4179388385186], ['234347377188851892419486', 980.5171502576593]]\n"
     ],
     "output_type": "stream"
    }
   ],
   "source": [
    "# print database\n",
    "for i in database.keys():\n",
    "    print(i,end=' ')\n",
    "    for j in database[i]:\n",
    "        print(j[0],end=' ')\n",
    "    for j in database[i]:\n",
    "        print(j[1],end=' ')\n",
    "print(database['0'])"
   ]
  },
  {
   "cell_type": "code",
   "execution_count": 5,
   "metadata": {
    "pycharm": {
     "is_executing": false
    }
   },
   "outputs": [],
   "source": [
    "# function to return time-intervals\n",
    "def time_interval_itemsets(i,j):\n",
    "    time_i=i[1]\n",
    "    time_j=j[1]\n",
    "    return abs(time_i-time_j)"
   ]
  },
  {
   "cell_type": "code",
   "execution_count": 6,
   "metadata": {
    "pycharm": {
     "is_executing": false
    }
   },
   "outputs": [],
   "source": [
    "# itemset pair generation\n",
    "def itemset_pair_generator(seq):\n",
    "    itemset_pairs=[]\n",
    "    n=len(seq)\n",
    "    for i in range(n):\n",
    "        for j in range(i+1,n):\n",
    "            itemset_pairs.append([seq[i],seq[j]])\n",
    "    return(itemset_pairs)"
   ]
  },
  {
   "cell_type": "code",
   "execution_count": 7,
   "metadata": {
    "pycharm": {
     "is_executing": false
    }
   },
   "outputs": [],
   "source": [
    "# function to generate the time intervals for a sequence\n",
    "def time_interval_sequence(itemset_pairs):\n",
    "    itemset_pairs_time=[]\n",
    "    for i in itemset_pairs:\n",
    "        time_interval=time_interval_itemsets(i[0],i[1])\n",
    "        itemset_pairs_time.append(i+[time_interval])\n",
    "    return(itemset_pairs_time)"
   ]
  },
  {
   "cell_type": "code",
   "execution_count": 8,
   "metadata": {
    "pycharm": {
     "is_executing": false
    }
   },
   "outputs": [],
   "source": [
    "# function to obtain the strength of a pair of itemsets\n",
    "def strength_pair(itemset_pairs_time):\n",
    "    itemset_pairs_time_strength=[]\n",
    "    for i in itemset_pairs_time:\n",
    "        itemset1=i[0][0]\n",
    "        itemset2=i[1][0]\n",
    "        # strength= len(itemset1)*len(itemset2)\n",
    "        strength= len(itemset1)*len(itemset2)/16    # because each item has 4 characters\n",
    "        itemset_pairs_time_strength.append(i + [strength])\n",
    "    return itemset_pairs_time_strength"
   ]
  },
  {
   "cell_type": "code",
   "execution_count": 9,
   "metadata": {
    "pycharm": {
     "is_executing": false
    }
   },
   "outputs": [],
   "source": [
    "# function to calculate the weighting function of the time interval\n",
    "def weighting_function(time_interval, delta=0.9, u=1):\n",
    "    w_TI=delta**(time_interval/u)\n",
    "    return(w_TI)"
   ]
  },
  {
   "cell_type": "code",
   "execution_count": 10,
   "metadata": {
    "pycharm": {
     "is_executing": false
    }
   },
   "outputs": [],
   "source": [
    "# function to calculate the time interval weight of the sequence\n",
    "def TiW_sequence(itemset_pairs_time_strength):\n",
    "    total_strength=0\n",
    "    weighted_strength=0\n",
    "    for i in itemset_pairs_time_strength:\n",
    "        w_TI=weighting_function(i[2])\n",
    "        weighted_strength+=w_TI*i[3]\n",
    "        total_strength+=i[3]\n",
    "    TiW=weighted_strength/total_strength\n",
    "    return(TiW)"
   ]
  },
  {
   "cell_type": "code",
   "execution_count": 11,
   "metadata": {
    "pycharm": {
     "is_executing": false
    }
   },
   "outputs": [],
   "source": [
    "# function to check if a given sequence is a super sequence of the other \n",
    "# checks if seq1 is a super sequence of seq2\n",
    "def is_super_seq_test(seq1,seq2):\n",
    "    i= 0\n",
    "    j= 0\n",
    "    while i<len(seq1) and j<len(seq2):\n",
    "        if seq2[j][0] in seq1[i][0]:\n",
    "            i+=1\n",
    "            j+=1\n",
    "        else:\n",
    "            i+=1\n",
    "    if j==len(seq2):\n",
    "        return 1\n",
    "    else:\n",
    "        return 0\n",
    "    \n",
    "# testing function\n",
    "def TiW_support_test():\n",
    "    count=0\n",
    "    for i in database.keys():\n",
    "        seq1=database[i]\n",
    "        seq2=[['ad'],['bc'],[]]\n",
    "        count+=is_super_seq_test(seq1,seq2)\n",
    "    \n",
    "# print(count/len(database.keys()))"
   ]
  },
  {
   "cell_type": "code",
   "execution_count": 12,
   "outputs": [],
   "source": [
    "def chunkstring(string, length=4):\n",
    "    return list(string[0+i:length+i] for i in range(0, len(string), length))\n",
    "\n",
    "def key(el):\n",
    "    return len(el)    \n",
    "    \n",
    "def is_super_seq(s1, s2):\n",
    "    seq_s1 = [chunkstring(s1[i][0]) for i in range(len(s1))]\n",
    "    seq_s1.sort(key=key, reverse=True)\n",
    "    seq_s2 = [chunkstring(s2[i][0]) for i in range(len(s2))]\n",
    "    print(seq_s1, seq_s2)\n",
    "    seq_s2.sort(key=key)\n",
    "    super_seq_matrix = [0 for j in range(len(s2))]\n",
    "    for ii in range(len(seq_s1)):\n",
    "        for jj in range(len(seq_s2)):\n",
    "            if not super_seq_matrix[jj]:\n",
    "                count = 0\n",
    "                for i in seq_s1[ii]:\n",
    "                    if i in seq_s2[jj]:\n",
    "                        count+=1\n",
    "                if count == len(seq_s1[ii]):\n",
    "                    super_seq_matrix[jj] = 1\n",
    "    \n",
    "    if sum(super_seq_matrix) == len(seq_s1):\n",
    "        return True\n",
    "    \n",
    "    return False\n",
    "\n",
    "# s1=[['12'], ['123'], ['35']]\n",
    "# s2 = [['1234123'], ['12'], ['345435']]   \n",
    "# is_super_seq(s1, s2)"
   ],
   "metadata": {
    "collapsed": false,
    "pycharm": {
     "name": "#%%\n",
     "is_executing": false
    }
   }
  },
  {
   "cell_type": "code",
   "execution_count": 13,
   "outputs": [
    {
     "name": "stdout",
     "text": [
      "\n"
     ],
     "output_type": "stream"
    }
   ],
   "source": [
    "print()\n",
    "\n",
    "def TiW_support(x, db):\n",
    "    pass\n",
    "    "
   ],
   "metadata": {
    "collapsed": false,
    "pycharm": {
     "name": "#%%\n",
     "is_executing": false
    }
   }
  },
  {
   "cell_type": "code",
   "execution_count": 14,
   "outputs": [],
   "source": [
    "# def main(): main function\n",
    "TiW_db = dict()\n",
    "\n",
    "for i in database.keys():\n",
    "    itemset_pairs=itemset_pair_generator(database[i])\n",
    "    itemset_pairs_time=time_interval_sequence(itemset_pairs)\n",
    "    itemset_pairs_time_strength=strength_pair(itemset_pairs_time)\n",
    "    TiW_db[i]=TiW_sequence(itemset_pairs_time_strength)"
   ],
   "metadata": {
    "collapsed": false,
    "pycharm": {
     "name": "#%%\n",
     "is_executing": false
    }
   }
  },
  {
   "cell_type": "code",
   "execution_count": 15,
   "outputs": [
    {
     "name": "stdout",
     "text": [
      "0.0024956012398205936\n"
     ],
     "output_type": "stream"
    }
   ],
   "source": [
    "# testing functions\n",
    "itemset_pairs=itemset_pair_generator(database['0'])\n",
    "itemset_pairs_time=time_interval_sequence(itemset_pairs)\n",
    "itemset_pairs_time_strength=strength_pair(itemset_pairs_time)\n",
    "TiW=TiW_sequence(itemset_pairs_time_strength)\n",
    "# print(itemset_pairs)\n",
    "print(TiW)"
   ],
   "metadata": {
    "collapsed": false,
    "pycharm": {
     "name": "#%%\n",
     "is_executing": false
    }
   }
  },
  {
   "cell_type": "code",
   "execution_count": 15,
   "outputs": [],
   "source": [],
   "metadata": {
    "collapsed": false,
    "pycharm": {
     "name": "#%%\n",
     "is_executing": false
    }
   }
  }
 ],
 "metadata": {
  "kernelspec": {
   "display_name": "Python 3",
   "language": "python",
   "name": "python3"
  },
  "language_info": {
   "codemirror_mode": {
    "name": "ipython",
    "version": 3
   },
   "file_extension": ".py",
   "mimetype": "text/x-python",
   "name": "python",
   "nbconvert_exporter": "python",
   "pygments_lexer": "ipython3",
   "version": "3.7.0"
  },
  "pycharm": {
   "stem_cell": {
    "cell_type": "raw",
    "source": [],
    "metadata": {
     "collapsed": false
    }
   }
  }
 },
 "nbformat": 4,
 "nbformat_minor": 2
}